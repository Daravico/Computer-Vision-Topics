{
 "cells": [
  {
   "cell_type": "markdown",
   "metadata": {},
   "source": [
    "## Feature Matching"
   ]
  },
  {
   "cell_type": "code",
   "execution_count": 8,
   "metadata": {},
   "outputs": [],
   "source": [
    "import cv2\n",
    "\n",
    "# Cargar las dos imágenes\n",
    "img1 = cv2.imread('img/arduino_1.jpg', cv2.IMREAD_GRAYSCALE)\n",
    "img2 = cv2.imread('img/arduino_3.jpg', cv2.IMREAD_GRAYSCALE)\n",
    "\n",
    "img1 = cv2.resize(img1, (int(img1.shape[0]//3), int(img1.shape[1]//3)))\n",
    "img2 = cv2.resize(img2, (int(img2.shape[0]//3), int(img2.shape[1]//3)))\n",
    "\n",
    "\n",
    "# Crear un detector ORB\n",
    "orb = cv2.ORB_create()\n",
    "\n",
    "# Detectar las características clave y calcular los descriptores con ORB\n",
    "keypoints1, descriptors1 = orb.detectAndCompute(img1, None)\n",
    "keypoints2, descriptors2 = orb.detectAndCompute(img2, None)\n",
    "\n",
    "# Crear un objeto BFMatcher para emparejar descriptores\n",
    "bf = cv2.BFMatcher(cv2.NORM_HAMMING, crossCheck=True)\n",
    "\n",
    "# Encontrar las mejores coincidencias\n",
    "matches = bf.match(descriptors1, descriptors2)\n",
    "\n",
    "# Ordenar las coincidencias según la distancia\n",
    "matches = sorted(matches, key=lambda x: x.distance)\n",
    "\n",
    "# Dibujar las primeras 10 coincidencias\n",
    "img_matches = cv2.drawMatches(img1, keypoints1, img2, keypoints2, matches[:10], None, flags=cv2.DrawMatchesFlags_NOT_DRAW_SINGLE_POINTS)\n",
    "\n",
    "# Mostrar la imagen con las coincidencias\n",
    "cv2.imshow('Feature Matching', img_matches)\n",
    "cv2.waitKey(0)\n",
    "cv2.destroyAllWindows()\n"
   ]
  }
 ],
 "metadata": {
  "kernelspec": {
   "display_name": ".venv",
   "language": "python",
   "name": "python3"
  },
  "language_info": {
   "codemirror_mode": {
    "name": "ipython",
    "version": 3
   },
   "file_extension": ".py",
   "mimetype": "text/x-python",
   "name": "python",
   "nbconvert_exporter": "python",
   "pygments_lexer": "ipython3",
   "version": "3.12.5"
  }
 },
 "nbformat": 4,
 "nbformat_minor": 2
}
