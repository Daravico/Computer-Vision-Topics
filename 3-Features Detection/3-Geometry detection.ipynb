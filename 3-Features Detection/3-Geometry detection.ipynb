{
 "cells": [
  {
   "cell_type": "markdown",
   "metadata": {},
   "source": [
    "# Contours"
   ]
  },
  {
   "cell_type": "code",
   "execution_count": null,
   "metadata": {},
   "outputs": [],
   "source": [
    "# Import libraries \n",
    "import cv2 \n",
    "import matplotlib.pyplot as plt \n",
    "\n",
    "\n",
    "# image = cv2.imread('media/coins_separated.jpg') \n",
    "image = cv2.imread('media/cards.jpg') \n",
    "# image = image[:,10:,:]\n",
    "\n",
    "# image = cv2.imread('media/coins_separated.jpg') \n",
    "# image = cv2.imread('media/cards.jpg')\n",
    "# image = cv2.imread('media/hand.png') \n",
    "# image = cv2.imread('media/stars.png') \n",
    "# image = cv2.imread('media/black_stars.png') \n",
    "\n",
    "\n",
    "gray = cv2.cvtColor(image, cv2.COLOR_BGR2GRAY) \n",
    "\n",
    "# plt.imshow(gray, cmap=\"gray\")\n",
    "# plt.figure()\n",
    "\n",
    "blur = cv2.GaussianBlur(gray, (11, 11), 0) \n",
    "canny = cv2.Canny(blur, 30, 150, 30) \n",
    "\n",
    "# plt.imshow(canny, cmap=\"gray\")\n",
    "# plt.figure()\n",
    "\n",
    "dilated = cv2.dilate(canny, (1, 1), iterations=0) \n",
    "dilated = cv2.dilate(canny, (1, 1), iterations=2)\n",
    "\n",
    "\n",
    "# plt.imshow(dilated, cmap=\"gray\")\n",
    "# plt.figure()\n",
    "\n",
    "# Multiple points stored or just the edges.\n",
    "(cnt, hierarchy) = cv2.findContours(dilated, cv2.RETR_EXTERNAL, cv2.CHAIN_APPROX_NONE) \n",
    "# (cnt, hierarchy) = cv2.findContours(dilated, cv2.RETR_EXTERNAL, cv2.CHAIN_APPROX_SIMPLE) \n",
    "\n",
    "# print(len(cnt[3]))\n",
    "\n",
    "rgb = cv2.cvtColor(image, cv2.COLOR_BGR2RGB) \n",
    "cv2.drawContours(rgb, cnt, -1, (0, 255, 0), 2) \n",
    "\n",
    "print(\"coins in the image : \", len(cnt)) \n",
    "\n",
    "plt.imshow(rgb)\n"
   ]
  }
 ],
 "metadata": {
  "kernelspec": {
   "display_name": ".venv",
   "language": "python",
   "name": "python3"
  },
  "language_info": {
   "name": "python",
   "version": "3.12.0"
  }
 },
 "nbformat": 4,
 "nbformat_minor": 2
}
