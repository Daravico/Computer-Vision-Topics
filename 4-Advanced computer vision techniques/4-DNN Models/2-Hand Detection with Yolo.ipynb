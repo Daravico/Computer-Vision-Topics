{
 "cells": [
  {
   "cell_type": "markdown",
   "metadata": {},
   "source": [
    "# YOLO MODEL FOR HAND DETECTION"
   ]
  },
  {
   "cell_type": "markdown",
   "metadata": {},
   "source": [
    "Reference:\n",
    "- https://github.com/cansik/yolo-hand-detection"
   ]
  },
  {
   "cell_type": "markdown",
   "metadata": {},
   "source": [
    "Download the models from:\n",
    "- https://github.com/cansik/yolo-hand-detection/releases/"
   ]
  },
  {
   "cell_type": "markdown",
   "metadata": {},
   "source": [
    "You can also download with the PowerShell Script of:\n",
    "- download-models.ps1\n",
    "\n",
    "Make sure this is in the **model/** folder"
   ]
  },
  {
   "cell_type": "code",
   "execution_count": 2,
   "metadata": {},
   "outputs": [
    {
     "name": "stdout",
     "output_type": "stream",
     "text": [
      "loading yolo-tiny-prn...\n"
     ]
    }
   ],
   "source": [
    "import cv2\n",
    "\n",
    "from yolo import YOLO\n",
    "\n",
    "network = \"prn\"\n",
    "device = 0\n",
    "size = 416\n",
    "size = 220\n",
    "confidence = 0.2\n",
    "hands = -1\n",
    "\n",
    "if network == \"normal\":\n",
    "    print(\"loading yolo...\")\n",
    "    yolo = YOLO(\"models/cross-hands.cfg\", \"models/cross-hands.weights\", [\"hand\"])\n",
    "elif network == \"prn\":\n",
    "    print(\"loading yolo-tiny-prn...\")\n",
    "    yolo = YOLO(\"models/cross-hands-tiny-prn.cfg\", \"models/cross-hands-tiny-prn.weights\", [\"hand\"])\n",
    "elif network == \"v4-tiny\":\n",
    "    print(\"loading yolov4-tiny-prn...\")\n",
    "    yolo = YOLO(\"models/cross-hands-yolov4-tiny.cfg\", \"models/cross-hands-yolov4-tiny.weights\", [\"hand\"])\n",
    "else:\n",
    "    print(\"loading yolo-tiny...\")\n",
    "    yolo = YOLO(\"models/cross-hands-tiny.cfg\", \"models/cross-hands-tiny.weights\", [\"hand\"])\n",
    "\n",
    "yolo.size = int(size)\n",
    "yolo.confidence = float(confidence)\n",
    "\n",
    "cap = cv2.VideoCapture(device)\n",
    "\n",
    "while True:\n",
    "    ret, frame = cap.read()\n",
    "\n",
    "    if not ret:\n",
    "        break\n",
    "\n",
    "    width, height, inference_time, results = yolo.inference(frame)\n",
    "\n",
    "    # Displaying the current frame to adjust parameters if needed.\n",
    "    cv2.putText(frame, \n",
    "    f'{round(1/inference_time, 2)} FPS', \n",
    "    (15,15), \n",
    "    cv2.FONT_HERSHEY_SIMPLEX,\n",
    "    0.5, (0,255,255), 2)\n",
    "\n",
    "    # Sort by confidence.\n",
    "    results.sort(key=lambda x: x[2])\n",
    "\n",
    "    # how many hands should be shown\n",
    "    hand_count = len(results)\n",
    "    if hands != -1:\n",
    "        hand_count = int(hands)\n",
    "\n",
    "    # display hands\n",
    "    for detection in results:\n",
    "        id, name, confidence, x, y, w, h = detection\n",
    "        cx = x + (w / 2)\n",
    "        cy = y + (h / 2)\n",
    "\n",
    "        # draw a bounding box rectangle and label on the image\n",
    "        color = (0, 255, 255)\n",
    "        cv2.rectangle(frame, (x, y), (x + w, y + h), color, 2)\n",
    "        text = f\"{name} {round(confidence, 2)}\"\n",
    "        cv2.putText(frame, text, (x, y - 5), cv2.FONT_HERSHEY_SIMPLEX,\n",
    "                    0.5, color, 2)\n",
    "\n",
    "    cv2.imshow(\"frame\", frame)\n",
    "\n",
    "    key = cv2.waitKey(10)\n",
    "    if key == ord('q'): \n",
    "        break\n",
    "\n",
    "cv2.destroyAllWindows()\n",
    "cap.release()"
   ]
  }
 ],
 "metadata": {
  "kernelspec": {
   "display_name": ".venv",
   "language": "python",
   "name": "python3"
  },
  "language_info": {
   "codemirror_mode": {
    "name": "ipython",
    "version": 3
   },
   "file_extension": ".py",
   "mimetype": "text/x-python",
   "name": "python",
   "nbconvert_exporter": "python",
   "pygments_lexer": "ipython3",
   "version": "3.12.5"
  }
 },
 "nbformat": 4,
 "nbformat_minor": 2
}
