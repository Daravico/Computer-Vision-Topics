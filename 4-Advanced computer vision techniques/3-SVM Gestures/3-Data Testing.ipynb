{
 "cells": [
  {
   "cell_type": "code",
   "execution_count": 1,
   "metadata": {},
   "outputs": [],
   "source": [
    "import cv2\n",
    "import pickle\n",
    "\n",
    "# Load the model.\n",
    "with open(\"GestureModel.pkl\", 'rb') as model_file:\n",
    "    clf = pickle.load(model_file)\n",
    "\n",
    "# Video capture and HOG initialization.\n",
    "cap = cv2.VideoCapture(0)\n",
    "hog = cv2.HOGDescriptor()\n",
    "\n",
    "x = int(cap.get(cv2.CAP_PROP_FRAME_WIDTH) // 2 - cap.get(cv2.CAP_PROP_FRAME_WIDTH) // 8)\n",
    "y = int(cap.get(cv2.CAP_PROP_FRAME_HEIGHT) // 4)\n",
    "w = int(cap.get(cv2.CAP_PROP_FRAME_WIDTH) // 4)\n",
    "h = int(cap.get(cv2.CAP_PROP_FRAME_HEIGHT) // 2)\n",
    "\n",
    "gestures = ('empty', 'one', 'two', 'palm')\n",
    "\n",
    "while True:\n",
    "    ret, frame = cap.read()\n",
    "    if not ret:\n",
    "        break\n",
    "\n",
    "    # Grayscale converison.\n",
    "    gray = cv2.cvtColor(frame, cv2.COLOR_BGR2GRAY)\n",
    "\n",
    "    # ROI.\n",
    "    cv2.rectangle(frame, (x, y), (x + w, y + h), (0, 255, 0), 2)\n",
    "    roi = gray[y:y+h, x:x+w]\n",
    "    roi = cv2.resize(roi, (64, 128))\n",
    "\n",
    "    # HOG features extraction.\n",
    "    hog_features = hog.compute(roi).flatten().reshape(1, -1)\n",
    "\n",
    "    # Prediction based on features.\n",
    "    prediction = clf.predict(hog_features)\n",
    "    \n",
    "    # Showing results.\n",
    "    cv2.putText(frame, f'Gesture: {gestures[prediction[0]]}', (10, 30), cv2.FONT_HERSHEY_SIMPLEX, 1, (255, 0, 0), 2, cv2.LINE_AA)\n",
    "    cv2.imshow('Gesture Recognition', frame)\n",
    "\n",
    "    if cv2.waitKey(1) & 0xFF == ord('q'):\n",
    "        break\n",
    "\n",
    "cap.release()\n",
    "cv2.destroyAllWindows()\n"
   ]
  }
 ],
 "metadata": {
  "kernelspec": {
   "display_name": ".venv",
   "language": "python",
   "name": "python3"
  },
  "language_info": {
   "codemirror_mode": {
    "name": "ipython",
    "version": 3
   },
   "file_extension": ".py",
   "mimetype": "text/x-python",
   "name": "python",
   "nbconvert_exporter": "python",
   "pygments_lexer": "ipython3",
   "version": "3.12.5"
  }
 },
 "nbformat": 4,
 "nbformat_minor": 2
}
