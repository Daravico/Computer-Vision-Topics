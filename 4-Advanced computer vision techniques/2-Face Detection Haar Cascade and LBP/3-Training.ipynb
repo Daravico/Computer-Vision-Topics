{
 "cells": [
  {
   "cell_type": "code",
   "execution_count": 3,
   "metadata": {},
   "outputs": [],
   "source": [
    "import cv2\n",
    "import numpy as np\n",
    "import os\n",
    "\n",
    "path = 'data'\n",
    "\n",
    "def images_loader(path):\n",
    "    image_paths = [os.path.join(path, f) for f in os.listdir(path)]\n",
    "\n",
    "    image_paths = []\n",
    "    for file in os.listdir(path):\n",
    "        image_paths.append(os.path.join(path, file))\n",
    "\n",
    "    faces = []\n",
    "    ids = []\n",
    "    \n",
    "    for path_file in image_paths:\n",
    "        face_img = cv2.imread(path_file, cv2.IMREAD_GRAYSCALE)  \n",
    "        if face_img is not None:\n",
    "            id_file = os.path.split(path_file)[-1].split(\".\")[0].split(\"_\")[1]\n",
    "\n",
    "            faces.append(face_img)\n",
    "            ids.append(int(id_file))\n",
    "\n",
    "            # Uncomment to see images as these are loaded.\n",
    "            # print(path_file)\n",
    "            cv2.imshow(\"Training\", face_img)\n",
    "            cv2.waitKey(1)\n",
    "\n",
    "    cv2.destroyAllWindows()\n",
    "    return ids, faces\n",
    "\n",
    "# images_loader('data')\n"
   ]
  },
  {
   "cell_type": "code",
   "execution_count": 9,
   "metadata": {},
   "outputs": [
    {
     "name": "stdout",
     "output_type": "stream",
     "text": [
      "data/User_1_150.jpg\n",
      "\n",
      "('data', 'User_1_150.jpg')\n",
      "\n",
      "User_1_150.jpg\n",
      "\n",
      "['User_1_150', 'jpg']\n",
      "\n",
      "User_1_150\n",
      "\n",
      "['User', '1', '150']\n",
      "\n",
      "1\n"
     ]
    }
   ],
   "source": [
    "# Example of how the split works.\n",
    "\n",
    "path_file = \"data/User_1_150.jpg\"\n",
    "\n",
    "print(path_file)\n",
    "print()\n",
    "print(os.path.split(path_file))\n",
    "print()\n",
    "print(os.path.split(path_file)[-1])\n",
    "print()\n",
    "print(os.path.split(path_file)[-1].split(\".\"))\n",
    "print()\n",
    "print(os.path.split(path_file)[-1].split(\".\")[0])\n",
    "print()\n",
    "print(os.path.split(path_file)[-1].split(\".\")[0].split(\"_\"))\n",
    "print()\n",
    "print(os.path.split(path_file)[-1].split(\".\")[0].split(\"_\")[1])"
   ]
  },
  {
   "cell_type": "code",
   "execution_count": 4,
   "metadata": {},
   "outputs": [
    {
     "name": "stdout",
     "output_type": "stream",
     "text": [
      "<class 'cv2.face.LBPHFaceRecognizer'>\n"
     ]
    }
   ],
   "source": [
    "import cv2\n",
    "\n",
    "# Specifying path.\n",
    "path = 'data'\n",
    "\n",
    "# Loading the data.\n",
    "recognizer = cv2.face.LBPHFaceRecognizer_create()\n",
    "print(type(recognizer))\n",
    "ids, faces = images_loader(path)\n",
    "\n",
    "# Training and saving the model.\n",
    "recognizer.train(faces, np.array(ids))\n",
    "recognizer.write(\"FaceModel.yml\")"
   ]
  }
 ],
 "metadata": {
  "kernelspec": {
   "display_name": ".venv",
   "language": "python",
   "name": "python3"
  },
  "language_info": {
   "codemirror_mode": {
    "name": "ipython",
    "version": 3
   },
   "file_extension": ".py",
   "mimetype": "text/x-python",
   "name": "python",
   "nbconvert_exporter": "python",
   "pygments_lexer": "ipython3",
   "version": "3.12.5"
  }
 },
 "nbformat": 4,
 "nbformat_minor": 2
}
