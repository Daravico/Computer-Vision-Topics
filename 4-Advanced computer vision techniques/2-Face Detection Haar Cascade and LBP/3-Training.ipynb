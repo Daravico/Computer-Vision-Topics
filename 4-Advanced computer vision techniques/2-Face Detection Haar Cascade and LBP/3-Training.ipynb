{
 "cells": [
  {
   "cell_type": "code",
   "execution_count": null,
   "metadata": {},
   "outputs": [],
   "source": [
    "import cv2\n",
    "import numpy as np\n",
    "from PIL import Image\n",
    "import os\n",
    "\n",
    "path = 'data'\n",
    "\n",
    "\n",
    "def images_loader(path):\n",
    "    image_paths = [os.path.join(path, f) for f in os.listdir(path)]\n",
    "\n",
    "    faces = []\n",
    "    ids = []\n",
    "    \n",
    "    for path_file in image_paths:\n",
    "        face_img = Image.open(path_file).convert('L')\n",
    "        face_array = np.array(face_img)        \n",
    "        id_file = (os.path.split(path_file)[-1].split(\".\")[0].split(\"_\")[1])\n",
    "\n",
    "        faces.append(face_array)\n",
    "        ids.append(int(id_file))\n",
    "\n",
    "        # cv2.imshow(\"Training\", face_array)\n",
    "        # cv2.waitKey(1)\n",
    "\n",
    "    cv2.destroyAllWindows()\n",
    "    return ids, faces\n",
    "\n",
    "\n"
   ]
  },
  {
   "cell_type": "code",
   "execution_count": null,
   "metadata": {},
   "outputs": [],
   "source": [
    "import cv2\n",
    "\n",
    "path = 'data'\n",
    "\n",
    "\n",
    "recognizer = cv2.face.LBPHFaceRecognizer_create()\n",
    "print(type(recognizer))\n",
    "ids, faces = images_loader(path)\n",
    "\n",
    "\n",
    "recognizer.train(faces, np.array(ids))\n",
    "recognizer.write(\"FaceModel.yml\")"
   ]
  }
 ],
 "metadata": {
  "kernelspec": {
   "display_name": ".venv",
   "language": "python",
   "name": "python3"
  },
  "language_info": {
   "name": "python",
   "version": "3.12.5"
  }
 },
 "nbformat": 4,
 "nbformat_minor": 2
}
