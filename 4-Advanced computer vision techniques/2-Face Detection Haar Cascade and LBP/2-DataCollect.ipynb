{
 "cells": [
  {
   "cell_type": "markdown",
   "metadata": {},
   "source": [
    "## Simple camera verification"
   ]
  },
  {
   "cell_type": "code",
   "execution_count": 1,
   "metadata": {},
   "outputs": [],
   "source": [
    "import cv2\n",
    "\n",
    "cap = cv2.VideoCapture(0)\n",
    "\n",
    "while True:\n",
    "    \n",
    "    ret, frame = cap.read()\n",
    "\n",
    "    cv2.imshow(\"Frame\", frame)\n",
    "\n",
    "    k = cv2.waitKey(1)\n",
    "\n",
    "    if k == ord('q'):\n",
    "        break\n",
    "\n",
    "cap.release()\n",
    "cv2.destroyAllWindows()\n"
   ]
  },
  {
   "cell_type": "code",
   "execution_count": null,
   "metadata": {},
   "outputs": [],
   "source": [
    "def update_id(filename):\n",
    "    \n",
    "    # --------------------------------------------------------\n",
    "    try:\n",
    "        with open(filename, 'r') as file:\n",
    "            lines = file.readlines()\n",
    "\n",
    "            # Reading the last id, else the count starts at zero.\n",
    "            if lines:\n",
    "                last_id = int(lines[-1].strip()) \n",
    "            else:\n",
    "                last_id = 0  \n",
    "\n",
    "        new_id = last_id + 1\n",
    "\n",
    "        with open(filename, 'a') as file:\n",
    "            file.write(str(new_id) + '\\n')\n",
    "\n",
    "        return new_id\n",
    "\n",
    "    # --------------------------------------------------------\n",
    "\n",
    "    # In case the file does not exist (specific error).\n",
    "    except FileNotFoundError:\n",
    "        with open(filename, 'w') as file:\n",
    "            file.write('1\\n')  \n",
    "        return 1\n"
   ]
  },
  {
   "cell_type": "code",
   "execution_count": null,
   "metadata": {},
   "outputs": [],
   "source": [
    "import cv2\n",
    "\n",
    "cap = cv2.VideoCapture(0)\n",
    "face_cascade = cv2.CascadeClassifier(cv2.data.haarcascades + 'haarcascade_frontalface_default.xml')\n",
    "\n",
    "file_id = 'id_list.txt'\n",
    "id = update_id(file_id)\n",
    "print(id)\n",
    "\n",
    "# 500 images required.\n",
    "count = 0\n",
    "limit = 500\n",
    "\n",
    "while True:\n",
    "    ret, frame = cap.read()\n",
    "    gray = cv2.cvtColor(frame, cv2.COLOR_BGR2GRAY)\n",
    "\n",
    "    faces = face_cascade.detectMultiScale(gray, 1.3, 5)\n",
    "\n",
    "\n",
    "    if len(faces) > 0:\n",
    "        count += 1\n",
    "\n",
    "        largest_face = max(faces, key=lambda rectangle: rectangle[2] * rectangle[3])\n",
    "        x, y, w, h = largest_face\n",
    "\n",
    "        cv2.imwrite(f'data/User_{str(id)}_{str(count)}.jpg', gray[y:y+h, x:x+w])\n",
    "        cv2.rectangle(frame, (x, y), (x+w, y+h), (255, 0, 0), 2)\n",
    "\n",
    "    cv2.imshow(\"Frame\", frame)\n",
    "    k = cv2.waitKey(1)\n",
    "    if k == ord('q') or count >= limit:\n",
    "        break\n",
    "\n",
    "cap.release()\n",
    "cv2.destroyAllWindows()\n"
   ]
  }
 ],
 "metadata": {
  "kernelspec": {
   "display_name": ".venv",
   "language": "python",
   "name": "python3"
  },
  "language_info": {
   "codemirror_mode": {
    "name": "ipython",
    "version": 3
   },
   "file_extension": ".py",
   "mimetype": "text/x-python",
   "name": "python",
   "nbconvert_exporter": "python",
   "pygments_lexer": "ipython3",
   "version": "3.12.5"
  }
 },
 "nbformat": 4,
 "nbformat_minor": 2
}
