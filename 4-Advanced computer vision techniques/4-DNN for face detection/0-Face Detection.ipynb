{
 "cells": [
  {
   "cell_type": "markdown",
   "metadata": {},
   "source": [
    "# CAFFE MODEL FOR FACE DETECTION"
   ]
  },
  {
   "cell_type": "markdown",
   "metadata": {},
   "source": [
    "Important:\n",
    "\n",
    "The folder to read the model has been included in the gitignore file, since the model is to heavy to be included in GitHub.\n",
    "\n",
    "Download from the following links and add manually.\n",
    "\n",
    "**Reference links:**\n",
    "- https://github.com/opencv/opencv_3rdparty/tree/dnn_samples_face_detector_20170830\n",
    "- https://github.com/opencv/opencv/tree/4.x/samples/dnn/face_detector"
   ]
  },
  {
   "cell_type": "code",
   "execution_count": 4,
   "metadata": {},
   "outputs": [],
   "source": [
    "import cv2\n",
    "\n",
    "prototxt = \"model/deploy.prototxt\"\n",
    "model = \"model/res10_300x300_ssd_iter_140000.caffemodel\"\n",
    "\n",
    "net = cv2.dnn.readNetFromCaffe(prototxt, model)\n",
    "\n",
    "\n",
    "# Video Capture\n",
    "cap = cv2.VideoCapture(0)\n",
    "\n",
    "while True:\n",
    "    \n",
    "    # Reading and preprocessing  -----------------------------------------------\n",
    "    ret, frame = cap.read()\n",
    "    h, w, _ = frame.shape\n",
    "\n",
    "    frame_resized = cv2.resize(frame, (300, 300))\n",
    "\n",
    "    blob = cv2.dnn.blobFromImage(frame_resized, 1.0, (300,300), (104, 117, 123))\n",
    "    # print(blob.shape)\n",
    "\n",
    "    # Detection and prediction  ------------------------------------------------\n",
    "    net.setInput(blob)\n",
    "    detections = net.forward()\n",
    "    # print(detections.shape)\n",
    "    # print(detections[0][0])\n",
    "    \n",
    "    for detection in detections[0][0]:\n",
    "        \n",
    "        if detection[2] > 0.6:\n",
    "            box = detection[3:7] * [w, h, w, h]\n",
    "            x_s = int(box[0])\n",
    "            y_s = int(box[1])\n",
    "            x_e = int(box[2])\n",
    "            y_e = int(box[3])\n",
    "\n",
    "            cv2.rectangle(frame, (x_s, y_s), (x_e, y_e), (0,0,0), 1)\n",
    "            cv2.putText(frame, f'Confidence: {detection[2]*100:.2f}', (x_s, y_s - 10), 1, 1, (0,0,255), 1)\n",
    "            \n",
    "    cv2.imshow(\"Frame\", frame)\n",
    "\n",
    "    k = cv2.waitKey(10)\n",
    "\n",
    "    if k == ord('q'):\n",
    "        break\n",
    "\n",
    "cap.release()\n",
    "cv2.destroyAllWindows()\n"
   ]
  },
  {
   "cell_type": "markdown",
   "metadata": {},
   "source": []
  }
 ],
 "metadata": {
  "kernelspec": {
   "display_name": ".venv",
   "language": "python",
   "name": "python3"
  },
  "language_info": {
   "codemirror_mode": {
    "name": "ipython",
    "version": 3
   },
   "file_extension": ".py",
   "mimetype": "text/x-python",
   "name": "python",
   "nbconvert_exporter": "python",
   "pygments_lexer": "ipython3",
   "version": "3.12.5"
  }
 },
 "nbformat": 4,
 "nbformat_minor": 2
}
