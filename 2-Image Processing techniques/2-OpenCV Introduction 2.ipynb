{
 "cells": [
  {
   "cell_type": "markdown",
   "metadata": {},
   "source": [
    "# INTRO OPENCV WITH PYTHON CONSIDERATIONS (WINDOWS POP-UP)"
   ]
  },
  {
   "cell_type": "markdown",
   "metadata": {},
   "source": [
    "#### New way to open images."
   ]
  },
  {
   "cell_type": "code",
   "execution_count": 1,
   "metadata": {},
   "outputs": [],
   "source": [
    "import cv2\n",
    "\n",
    "img = cv2.imread(\"img/beach.jpg\")\n",
    "\n",
    "cv2.imshow(\"Playa\", img)\n",
    "\n",
    "cv2.waitKey()\n",
    "\n",
    "cv2.destroyAllWindows()"
   ]
  },
  {
   "cell_type": "markdown",
   "metadata": {},
   "source": [
    "#### KEY WAITING (CRASHING IF NOT DESTROYING WINDOWS). OPEN IN NEW PYTHON FILE."
   ]
  },
  {
   "cell_type": "code",
   "execution_count": 2,
   "metadata": {},
   "outputs": [],
   "source": [
    "# Check the new window that pops up. IT CRASHES WITH THE KEY not with closing the window.\n",
    "# ONLY IF CV2 DESTROY ALL WINDOWS IS NOT PLACED...\n",
    "\n",
    "import cv2 \n",
    "import sys\n",
    " \n",
    "img = cv2.imread(\"img/starry_night.jpg\")\n",
    " \n",
    "if img is None:\n",
    "    sys.exit(\"Could not read the image.\")\n",
    " \n",
    "cv2.imshow(\"Display window\", img)\n",
    "k = cv2.waitKey(0)\n",
    " \n",
    "if k == ord(\"s\"):\n",
    "    cv2.imwrite(\"starry_night.png\", img)\n",
    "\n",
    "cv2.destroyAllWindows()"
   ]
  },
  {
   "cell_type": "code",
   "execution_count": 4,
   "metadata": {},
   "outputs": [],
   "source": [
    "# This should be the correct implementation (Crashes the program again).\n",
    "# RUN P_2_0\n",
    "# ONLY IF CV2 DESTROY ALL WINDOWS IS NOT PLACED...\n",
    "\n",
    "\n",
    "# Try closing it.\n",
    "import cv2\n",
    "\n",
    "img = cv2.imread(\"img/starry_night.jpg\")\n",
    "\n",
    "while True:\n",
    "    cv2.imshow(\"STARRY\", img)\n",
    "\n",
    "    if cv2.waitKey(2) & 0xFF == 27:\n",
    "        break\n",
    "\n",
    "cv2.destroyAllWindows()"
   ]
  },
  {
   "cell_type": "code",
   "execution_count": 9,
   "metadata": {},
   "outputs": [
    {
     "name": "stdout",
     "output_type": "stream",
     "text": [
      "-1\n",
      "-1\n",
      "113\n",
      "113\n"
     ]
    }
   ],
   "source": [
    "# STILL DOES NOT WORK\n",
    "# ONLY IF CV2 DESTROY ALL WINDOWS IS NOT PLACED...\n",
    "import cv2\n",
    "\n",
    "img = cv2.imread(\"img/starry_night.jpg\")\n",
    "\n",
    "while True:\n",
    "    cv2.imshow(\"STARRY\", img)\n",
    "\n",
    "    k = cv2.waitKey(1000)\n",
    "\n",
    "    print(k)\n",
    "\n",
    "    if k == ord('q'):\n",
    "        print(k)\n",
    "        break\n",
    "\n",
    "cv2.destroyAllWindows()"
   ]
  },
  {
   "cell_type": "markdown",
   "metadata": {},
   "source": [
    "- **RUN P_2_0 AND P_2_1**"
   ]
  },
  {
   "cell_type": "markdown",
   "metadata": {},
   "source": [
    "- waitKey()/waitKey(0) waits for the user to press any key.\n",
    "- waitKey(1000) waits 1 second (1000 ms).\n",
    "- waitKey(1000) == ord('q') -> waits for the user to press Q, after 1 second.\n",
    " - waitKey(0) == ord('q') -> waits for the user to press Q whenever."
   ]
  },
  {
   "cell_type": "markdown",
   "metadata": {},
   "source": [
    "##### DRAWING IN IMAGES."
   ]
  },
  {
   "cell_type": "code",
   "execution_count": 10,
   "metadata": {},
   "outputs": [
    {
     "name": "stdout",
     "output_type": "stream",
     "text": [
      "(300, 300, 3)\n"
     ]
    },
    {
     "data": {
      "text/plain": [
       "<matplotlib.image.AxesImage at 0x19480eb31a0>"
      ]
     },
     "execution_count": 10,
     "metadata": {},
     "output_type": "execute_result"
    },
    {
     "data": {
      "image/png": "[encoded data removed]",
      "text/plain": [
       "<Figure size 640x480 with 1 Axes>"
      ]
     },
     "metadata": {},
     "output_type": "display_data"
    }
   ],
   "source": [
    "import numpy as np\n",
    "import matplotlib.pyplot as plt\n",
    "import cv2\n",
    "\n",
    "# Creating the matrix\n",
    "bg_black = np.zeros(shape=(300, 300, 3), dtype=np.int8)\n",
    "print(bg_black.shape)\n",
    "\n",
    "color = (255,255,0)\n",
    "\n",
    "# RECTANGLE.\n",
    "# FIRST LINE DOES NOT WORK.\n",
    "# cv2.rectangle(diagonal_img, pt1=(100, 100), pt2=(200,200), color=\"red\", thickness=2)\n",
    "cv2.rectangle(bg_black, pt1=(50, 50), pt2=(250,250), color=color, thickness=5)\n",
    "\n",
    "\n",
    "# CIRCLES.\n",
    "cv2.circle(bg_black, center=(150,150), radius=75, color=color, thickness=5)\n",
    "cv2.circle(bg_black, center=(150,150), radius=50, color=color, thickness=-1)\n",
    "\n",
    "\n",
    "# LINES.\n",
    "cv2.line(bg_black, pt1=(50,50), pt2=(150,0), color=color, thickness=5)\n",
    "cv2.line(bg_black, pt1=(150,0), pt2=(250,50), color=color, thickness=5)\n",
    "\n",
    "cv2.line(bg_black, pt1=(50,250), pt2=(150,300), color=color, thickness=5)\n",
    "cv2.line(bg_black, pt1=(150,300), pt2=(250,250), color=color, thickness=5)\n",
    "\n",
    "plt.imshow(bg_black)\n"
   ]
  },
  {
   "cell_type": "markdown",
   "metadata": {},
   "source": [
    "##### TEXT AND POLY (DOWN ARE SOME CODES FOR RESHAPE EXPLANATION)"
   ]
  },
  {
   "cell_type": "code",
   "execution_count": 1,
   "metadata": {},
   "outputs": [
    {
     "name": "stdout",
     "output_type": "stream",
     "text": [
      "(300, 400, 3)\n",
      "[[ 10 100]\n",
      " [150  50]\n",
      " [200 100]]\n",
      "(3, 2)\n",
      "\n",
      "[[[ 10 100]]\n",
      "\n",
      " [[150  50]]\n",
      "\n",
      " [[200 100]]]\n",
      "(3, 1, 2)\n"
     ]
    },
    {
     "data": {
      "text/plain": [
       "<matplotlib.image.AxesImage at 0x204ef33e780>"
      ]
     },
     "execution_count": 1,
     "metadata": {},
     "output_type": "execute_result"
    },
    {
     "data": {
      "image/png": "[encoded data removed]",
      "text/plain": [
       "<Figure size 640x480 with 1 Axes>"
      ]
     },
     "metadata": {},
     "output_type": "display_data"
    }
   ],
   "source": [
    "import numpy as np\n",
    "import matplotlib.pyplot as plt\n",
    "import cv2\n",
    "\n",
    "# Creating the matrix\n",
    "bg_black = np.zeros(shape=(300, 400, 3), dtype=np.int8)\n",
    "print(bg_black.shape)\n",
    "\n",
    "color = (255,255,0)\n",
    "\n",
    "# TEXT.\n",
    "font = cv2.FONT_ITALIC\n",
    "text = \"Hello World\"\n",
    "\n",
    "cv2.putText(bg_black, text=text, org=(10,250), fontFace=font, fontScale=2, color=color, thickness=4, lineType=cv2.LINE_4)\n",
    "\n",
    "# POLYGON\n",
    "vector = np.array([ [10,100], [150,50], [200,100] ], dtype=np.int64)\n",
    "print(vector)\n",
    "print(vector.shape)\n",
    "print()\n",
    "# It creates 3 groups of 1 element, each one of them with 2 values.\n",
    "points = vector.reshape(-1,1,2)\n",
    "print(points)\n",
    "print(points.shape)\n",
    "\n",
    "cv2.polylines(bg_black, [points], isClosed=True, color=color, thickness=1)\n",
    "\n",
    "plt.imshow(bg_black)"
   ]
  },
  {
   "cell_type": "code",
   "execution_count": 2,
   "metadata": {},
   "outputs": [
    {
     "name": "stdout",
     "output_type": "stream",
     "text": [
      "[[ 1  2  3]\n",
      " [ 4  5  6]\n",
      " [ 7  8  9]\n",
      " [10 11 12]]\n",
      "(4, 3)\n"
     ]
    }
   ],
   "source": [
    "import numpy as np\n",
    "\n",
    "arr = np.array([1, 2, 3, 4, 5, 6, 7, 8, 9, 10, 11, 12])\n",
    "\n",
    "newarr = arr.reshape(4, 3)\n",
    "\n",
    "print(newarr)\n",
    "print(newarr.shape)"
   ]
  }
 ],
 "metadata": {
  "kernelspec": {
   "display_name": "TEST VENV",
   "language": "python",
   "name": "test-venv"
  },
  "language_info": {
   "codemirror_mode": {
    "name": "ipython",
    "version": 3
   },
   "file_extension": ".py",
   "mimetype": "text/x-python",
   "name": "python",
   "nbconvert_exporter": "python",
   "pygments_lexer": "ipython3",
   "version": "3.12.0"
  }
 },
 "nbformat": 4,
 "nbformat_minor": 2
}
