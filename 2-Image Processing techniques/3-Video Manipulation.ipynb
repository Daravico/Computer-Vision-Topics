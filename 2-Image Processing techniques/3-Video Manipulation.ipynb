{
 "cells": [
  {
   "cell_type": "markdown",
   "metadata": {},
   "source": [
    "# VIDEO WITH PYTHON AND OPENCV"
   ]
  },
  {
   "cell_type": "markdown",
   "metadata": {},
   "source": [
    "RUN P_4_1 AS WELL (MAYBE MODIFY IN TWO FILES)"
   ]
  },
  {
   "cell_type": "code",
   "execution_count": 1,
   "metadata": {},
   "outputs": [
    {
     "name": "stdout",
     "output_type": "stream",
     "text": [
      "30.00473128497308\n"
     ]
    }
   ],
   "source": [
    "import cv2\n",
    "import time\n",
    "\n",
    "capture = cv2.VideoCapture(\"video/kali.mp4\")\n",
    "\n",
    "fps = capture.get(cv2.CAP_PROP_FPS)\n",
    "print(fps)\n",
    "\n",
    "while True:\n",
    "    isTrue, frame = capture.read()\n",
    "    \n",
    "    if not isTrue:\n",
    "        print(\"Final frame\")\n",
    "        break\n",
    "\n",
    "    cv2.imshow('Video', frame)\n",
    "\n",
    "    # OPTION 1:\n",
    "    # ----------------------------------\n",
    "    # Waits until a key is pressed.\n",
    "    # k = cv2.waitKey(int(1000 / fps) - 3)\n",
    "\n",
    "    # if k == ord('q'):\n",
    "    #     break\n",
    "    # ----------------------------------\n",
    "\n",
    "    # OPTION 2:\n",
    "    # ----------------------------------\n",
    "    time.sleep(1/33)\n",
    "    k = cv2.waitKey(1)\n",
    "\n",
    "    if k == ord('q'):\n",
    "        break\n",
    "    # ----------------------------------\n",
    "\n",
    "capture.release()\n",
    "cv2.destroyAllWindows()"
   ]
  },
  {
   "cell_type": "code",
   "execution_count": 1,
   "metadata": {},
   "outputs": [],
   "source": [
    "import cv2\n",
    "\n",
    "capture = cv2.VideoCapture(0)\n",
    "\n",
    "while True:\n",
    "    isTrue, frame = capture.read()\n",
    "\n",
    "    frame = cv2.cvtColor(frame, cv2.COLOR_BGR2GRAY)\n",
    "\n",
    "    cv2.imshow('Video', frame)\n",
    "\n",
    "    # Waits until a key is pressed.\n",
    "    k = cv2.waitKey(1)\n",
    "\n",
    "    if k == ord('q'):\n",
    "        break\n",
    "\n",
    "capture.release()\n",
    "cv2.destroyAllWindows()"
   ]
  },
  {
   "cell_type": "code",
   "execution_count": 4,
   "metadata": {},
   "outputs": [],
   "source": [
    "# SAME AS BEFORE BUT WITH RECORDER.\n",
    "\n",
    "import cv2\n",
    "\n",
    "capture = cv2.VideoCapture(0)\n",
    "\n",
    "w = int(capture.get(cv2.CAP_PROP_FRAME_WIDTH))\n",
    "h = int(capture.get(cv2.CAP_PROP_FRAME_HEIGHT))\n",
    "\n",
    "size = (w, h)\n",
    "\n",
    "# videoWriter = cv2.VideoWriter('video/recording.avi',  \n",
    "#                          cv2.VideoWriter_fourcc(*'MJPG'), \n",
    "#                          30, size) \n",
    "\n",
    "videoWriter = cv2.VideoWriter('video/recording.mp4',  \n",
    "                         cv2.VideoWriter_fourcc(*'MP4V'), \n",
    "                         30, size) \n",
    "\n",
    "while True:\n",
    "    isTrue, frame = capture.read()\n",
    "\n",
    "    # Saving the frames.\n",
    "    videoWriter.write(frame)\n",
    "\n",
    "    cv2.imshow('Video', frame)\n",
    "\n",
    "    # Waits until a key is pressed.\n",
    "    k = cv2.waitKey(1)\n",
    "\n",
    "    if k == 27:\n",
    "        break\n",
    "\n",
    "capture.release()\n",
    "videoWriter.release()\n",
    "cv2.destroyAllWindows()"
   ]
  },
  {
   "cell_type": "markdown",
   "metadata": {},
   "source": [
    "SAVING A TEMPLATE, videoTemplate.py"
   ]
  },
  {
   "cell_type": "markdown",
   "metadata": {},
   "source": [
    "#### DRAWING"
   ]
  },
  {
   "cell_type": "code",
   "execution_count": 1,
   "metadata": {},
   "outputs": [],
   "source": [
    "import cv2 \n",
    "\n",
    "cap = cv2.VideoCapture(0)\n",
    "\n",
    "width = int(cap.get(cv2.CAP_PROP_FRAME_WIDTH))\n",
    "height = int(cap.get(cv2.CAP_PROP_FRAME_HEIGHT))\n",
    "\n",
    "w = width // 2\n",
    "h = height // 2\n",
    "\n",
    "x = w // 4\n",
    "y = h // 4\n",
    "\n",
    "while True:\n",
    "    ret, frame = cap.read()\n",
    "\n",
    "\n",
    "    cv2.rectangle(frame, (x,y), (x+w, y+h), color=(0,255,0), thickness=2)\n",
    "\n",
    "    cv2.imshow(\"VideoCapture\", frame)\n",
    "\n",
    "    # No more frames captured. Exiting.\n",
    "    if not ret:\n",
    "        break\n",
    "\n",
    "    k = cv2.waitKey(1)\n",
    "\n",
    "    if k == 27:\n",
    "        break\n",
    "\n",
    "\n",
    "cap.release()\n",
    "cv2.destroyAllWindows()"
   ]
  }
 ],
 "metadata": {
  "kernelspec": {
   "display_name": "TEST VENV",
   "language": "python",
   "name": "test-venv"
  },
  "language_info": {
   "codemirror_mode": {
    "name": "ipython",
    "version": 3
   },
   "file_extension": ".py",
   "mimetype": "text/x-python",
   "name": "python",
   "nbconvert_exporter": "python",
   "pygments_lexer": "ipython3",
   "version": "3.12.0"
  }
 },
 "nbformat": 4,
 "nbformat_minor": 2
}
