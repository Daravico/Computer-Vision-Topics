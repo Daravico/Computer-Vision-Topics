{
 "cells": [
  {
   "cell_type": "markdown",
   "metadata": {},
   "source": [
    "## Contours"
   ]
  },
  {
   "cell_type": "code",
   "execution_count": null,
   "metadata": {},
   "outputs": [],
   "source": [
    "import cv2\n",
    "import matplotlib.pyplot as plt\n",
    "import numpy as np\n",
    "\n",
    "# Lee la imagen\n",
    "img = cv2.imread(\"img/apples.jpg\")\n",
    "img = cv2.cvtColor(img, cv2.COLOR_BGR2RGB)\n",
    "\n",
    "# Convierte la imagen a HSV\n",
    "hsv_img = cv2.cvtColor(img, cv2.COLOR_RGB2HSV)\n",
    "\n",
    "# Define los rangos de color para detectar el color rojo\n",
    "lower_red1 = np.array([0, 70, 50])\n",
    "upper_red1 = np.array([10, 255, 255])\n",
    "\n",
    "lower_red2 = np.array([160, 50, 50])\n",
    "upper_red2 = np.array([180, 255, 255])\n",
    "\n",
    "# Crea máscaras para los rangos de color rojo\n",
    "mask1 = cv2.inRange(hsv_img, lower_red1, upper_red1)\n",
    "mask2 = cv2.inRange(hsv_img, lower_red2, upper_red2)\n",
    "\n",
    "# Combina las dos máscaras\n",
    "mask = cv2.bitwise_or(mask1, mask2)\n",
    "\n",
    "plt.imshow(mask, cmap=\"gray\")\n",
    "plt.figure()\n",
    "\n",
    "# Encuentra los contornos en la máscara\n",
    "contours, _ = cv2.findContours(mask, cv2.RETR_EXTERNAL, cv2.CHAIN_APPROX_SIMPLE)\n",
    "\n",
    "# Inicializa variables para el contorno más grande\n",
    "max_area = 0\n",
    "largest_contour = None\n",
    "\n",
    "# Itera sobre los contornos para encontrar el más grande\n",
    "for contour in contours:\n",
    "    area = cv2.contourArea(contour)\n",
    "    if area > max_area:\n",
    "        max_area = area\n",
    "        largest_contour = contour\n",
    "\n",
    "# Dibuja el rectángulo alrededor del contorno más grande\n",
    "if largest_contour is not None:\n",
    "    x, y, w, h = cv2.boundingRect(largest_contour)\n",
    "    cv2.rectangle(img, (x, y), (x + w, y + h), (255, 0, 0), 2)  # Dibuja en azul\n",
    "\n",
    "# Muestra la imagen con el contorno más grande resaltado\n",
    "plt.imshow(img)\n",
    "plt.axis('off')  # Oculta los ejes\n",
    "plt.show()\n"
   ]
  }
 ],
 "metadata": {
  "language_info": {
   "name": "python"
  }
 },
 "nbformat": 4,
 "nbformat_minor": 2
}
